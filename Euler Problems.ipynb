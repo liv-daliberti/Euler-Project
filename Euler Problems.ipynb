{
 "cells": [
  {
   "cell_type": "code",
   "execution_count": 401,
   "metadata": {},
   "outputs": [
    {
     "data": {
      "text/plain": [
       "233168"
      ]
     },
     "execution_count": 401,
     "metadata": {},
     "output_type": "execute_result"
    }
   ],
   "source": [
    "#Problem 1\n",
    "i = 0\n",
    "multipliers = []\n",
    "while i < 1000:\n",
    "    if i % 3 == 0 or i % 5 == 0:\n",
    "        multipliers.append(i)\n",
    "    i = i + 1\n",
    "sum(multipliers)"
   ]
  },
  {
   "cell_type": "code",
   "execution_count": 400,
   "metadata": {},
   "outputs": [
    {
     "name": "stdout",
     "output_type": "stream",
     "text": [
      "4613732\n"
     ]
    }
   ],
   "source": [
    "#Problem 2\n",
    "minus1 = 2\n",
    "minus2 = 1\n",
    "fib_sum = 0\n",
    "while minus1 < 4000000:\n",
    "    newterm = minus1 + minus2\n",
    "    if newterm % 2 == 0:\n",
    "        fib_sum += newterm\n",
    "    minus2 = minus1\n",
    "    minus1 = newterm\n",
    "\n",
    "print(fib_sum+2)"
   ]
  },
  {
   "cell_type": "code",
   "execution_count": 399,
   "metadata": {},
   "outputs": [
    {
     "name": "stdout",
     "output_type": "stream",
     "text": [
      "[1, 71, 839, 1471, 6857, 59569, 104441, 486847]\n"
     ]
    }
   ],
   "source": [
    "#Problem 3\n",
    "\n",
    "factor = 600851475143\n",
    "limit = 600851475143\n",
    "factors = []\n",
    "i = 1\n",
    "\n",
    "while i < limit:\n",
    "    if factor % i == 0:\n",
    "        factors.append(i)\n",
    "        limit = (factor / i) - 1\n",
    "    i = i + 1\n",
    "print(factors)"
   ]
  },
  {
   "cell_type": "code",
   "execution_count": 398,
   "metadata": {},
   "outputs": [
    {
     "name": "stdout",
     "output_type": "stream",
     "text": [
      "906609\n"
     ]
    }
   ],
   "source": [
    "#Problem 4\n",
    "max_len = 0\n",
    "for i in list(range(100,999)):\n",
    "    for j in list(range(100,999)):\n",
    "        possible_palindrome = [k for k in str(i * j)]\n",
    "        if possible_palindrome == possible_palindrome[::-1]:\n",
    "            if i * j > max_len:\n",
    "                max_len = i * j\n",
    "print(max_len)       "
   ]
  },
  {
   "cell_type": "code",
   "execution_count": 402,
   "metadata": {},
   "outputs": [
    {
     "name": "stdout",
     "output_type": "stream",
     "text": [
      "{2: [1], 3: [1], 4: [2, 1], 5: [1], 6: [3, 2, 1], 7: [1], 8: [4, 2, 1], 9: [3, 1], 10: [5, 2, 1], 11: [1], 12: [6, 4, 3, 2, 1], 13: [1], 14: [7, 2, 1], 15: [5, 3, 1], 16: [8, 4, 2, 1], 17: [1], 18: [9, 6, 3, 2, 1], 19: [1], 20: [10, 5, 4, 2, 1]}\n"
     ]
    },
    {
     "data": {
      "text/plain": [
       "232792560"
      ]
     },
     "execution_count": 402,
     "metadata": {},
     "output_type": "execute_result"
    }
   ],
   "source": [
    "#Problem 5\n",
    "all_factors = {}\n",
    "for i in range(2,21):\n",
    "    factors = []\n",
    "    for j in range(2,21):\n",
    "        if i % j == 0:\n",
    "            factors.append(int(i/j))\n",
    "    all_factors[i] = factors\n",
    "print(all_factors)\n",
    "\n",
    "2*3*2*5*7*2*3*11*13*2*17*19"
   ]
  },
  {
   "cell_type": "code",
   "execution_count": 403,
   "metadata": {},
   "outputs": [
    {
     "name": "stdout",
     "output_type": "stream",
     "text": [
      "25164150\n"
     ]
    }
   ],
   "source": [
    "#Problem 6\n",
    "square_sum, sum_square, i = 0, 0, 0\n",
    "while i <= 100:\n",
    "    square_sum += pow(i,2)\n",
    "    sum_square += i\n",
    "    i += 1\n",
    "\n",
    "print(pow(sum_square,2) - square_sum)"
   ]
  },
  {
   "cell_type": "code",
   "execution_count": 405,
   "metadata": {},
   "outputs": [
    {
     "name": "stdout",
     "output_type": "stream",
     "text": [
      "10001\n",
      "104743\n"
     ]
    }
   ],
   "source": [
    "#Problem 7\n",
    "not_prime = []\n",
    "prime = []\n",
    "\n",
    "for i in range(2, 120000):\n",
    "    if i not in not_prime and len(prime) < 10001:\n",
    "            prime.append(i)\n",
    "            for j in range(i*i, 120001, i):\n",
    "                not_prime.append(j)\n",
    "    else:\n",
    "        continue\n",
    "\n",
    "print(len(prime))\n",
    "print(prime[10000])"
   ]
  },
  {
   "cell_type": "code",
   "execution_count": 406,
   "metadata": {},
   "outputs": [
    {
     "name": "stdout",
     "output_type": "stream",
     "text": [
      "23514624000\n"
     ]
    }
   ],
   "source": [
    "#Problem 8\n",
    "series = \"\"\"73167176531330624919225119674426574742355349194934\n",
    "96983520312774506326239578318016984801869478851843\n",
    "85861560789112949495459501737958331952853208805511\n",
    "12540698747158523863050715693290963295227443043557\n",
    "66896648950445244523161731856403098711121722383113\n",
    "62229893423380308135336276614282806444486645238749\n",
    "30358907296290491560440772390713810515859307960866\n",
    "70172427121883998797908792274921901699720888093776\n",
    "65727333001053367881220235421809751254540594752243\n",
    "52584907711670556013604839586446706324415722155397\n",
    "53697817977846174064955149290862569321978468622482\n",
    "83972241375657056057490261407972968652414535100474\n",
    "82166370484403199890008895243450658541227588666881\n",
    "16427171479924442928230863465674813919123162824586\n",
    "17866458359124566529476545682848912883142607690042\n",
    "24219022671055626321111109370544217506941658960408\n",
    "07198403850962455444362981230987879927244284909188\n",
    "84580156166097919133875499200524063689912560717606\n",
    "05886116467109405077541002256983155200055935729725\n",
    "71636269561882670428252483600823257530420752963450\"\"\"\n",
    "max_num = 0\n",
    "series = \"\".join(series.splitlines())\n",
    "for i in range(0, 988):\n",
    "    j, total = 0, 1\n",
    "    while j <= 12:\n",
    "        total *= int(series[i + j])\n",
    "        j += 1\n",
    "    if total > max_num:\n",
    "        #print(total)\n",
    "        max_num = total\n",
    "print(max_num)\n"
   ]
  },
  {
   "cell_type": "code",
   "execution_count": 407,
   "metadata": {},
   "outputs": [
    {
     "name": "stdout",
     "output_type": "stream",
     "text": [
      "200 375 425.0\n",
      "31875000.0\n",
      "375 200 425.0\n",
      "31875000.0\n"
     ]
    }
   ],
   "source": [
    "#Problem 9\n",
    "\n",
    "for a in range(1,1000):\n",
    "    for b in range(1,1000):\n",
    "        c_square = pow(a,2) + pow(b,2)\n",
    "        c = pow(c_square, 0.5)\n",
    "        if a + b + c == 1000:\n",
    "            print(a, b, c)\n",
    "            print(a * b * c)"
   ]
  },
  {
   "cell_type": "code",
   "execution_count": 408,
   "metadata": {},
   "outputs": [
    {
     "data": {
      "text/plain": [
       "142913828922"
      ]
     },
     "execution_count": 408,
     "metadata": {},
     "output_type": "execute_result"
    }
   ],
   "source": [
    "# Problem 10\n",
    "\n",
    "def prime_eratosthenes(m, n):\n",
    "    not_prime = set()\n",
    "    prime_sum = 0\n",
    "    for i in range(2, n+1):\n",
    "        if i not in not_prime:\n",
    "            prime_sum += i\n",
    "        for j in range(i*i, n+1, i):\n",
    "            not_prime.add(j)\n",
    "    return prime_sum\n",
    "\n",
    "prime_eratosthenes(2,2000000)"
   ]
  },
  {
   "cell_type": "code",
   "execution_count": 409,
   "metadata": {},
   "outputs": [
    {
     "data": {
      "text/plain": [
       "70600674"
      ]
     },
     "execution_count": 409,
     "metadata": {},
     "output_type": "execute_result"
    }
   ],
   "source": [
    "#Problem 11\n",
    "\n",
    "number_str = \"\"\"08 02 22 97 38 15 00 40 00 75 04 05 07 78 52 12 50 77 91 08\n",
    "49 49 99 40 17 81 18 57 60 87 17 40 98 43 69 48 04 56 62 00\n",
    "81 49 31 73 55 79 14 29 93 71 40 67 53 88 30 03 49 13 36 65\n",
    "52 70 95 23 04 60 11 42 69 24 68 56 01 32 56 71 37 02 36 91\n",
    "22 31 16 71 51 67 63 89 41 92 36 54 22 40 40 28 66 33 13 80\n",
    "24 47 32 60 99 03 45 02 44 75 33 53 78 36 84 20 35 17 12 50\n",
    "32 98 81 28 64 23 67 10 26 38 40 67 59 54 70 66 18 38 64 70\n",
    "67 26 20 68 02 62 12 20 95 63 94 39 63 08 40 91 66 49 94 21\n",
    "24 55 58 05 66 73 99 26 97 17 78 78 96 83 14 88 34 89 63 72\n",
    "21 36 23 09 75 00 76 44 20 45 35 14 00 61 33 97 34 31 33 95\n",
    "78 17 53 28 22 75 31 67 15 94 03 80 04 62 16 14 09 53 56 92\n",
    "16 39 05 42 96 35 31 47 55 58 88 24 00 17 54 24 36 29 85 57\n",
    "86 56 00 48 35 71 89 07 05 44 44 37 44 60 21 58 51 54 17 58\n",
    "19 80 81 68 05 94 47 69 28 73 92 13 86 52 17 77 04 89 55 40\n",
    "04 52 08 83 97 35 99 16 07 97 57 32 16 26 26 79 33 27 98 66\n",
    "88 36 68 87 57 62 20 72 03 46 33 67 46 55 12 32 63 93 53 69\n",
    "04 42 16 73 38 25 39 11 24 94 72 18 08 46 29 32 40 62 76 36\n",
    "20 69 36 41 72 30 23 88 34 62 99 69 82 67 59 85 74 04 36 16\n",
    "20 73 35 29 78 31 90 01 74 31 49 71 48 86 81 16 23 57 05 54\n",
    "01 70 54 71 83 51 54 69 16 92 33 48 61 43 52 01 89 19 67 48\"\"\"\n",
    "\n",
    "grid_str = [i.split(' ') for i in number_str.split(\"\\n\")]\n",
    "i=0\n",
    "multiples = []\n",
    "while i < len(grid_str):\n",
    "    j = 0\n",
    "    while j < len(grid_str) - 3:\n",
    "        i_1 = i\n",
    "        multiples.append(int(grid_str[i][j])*int(grid_str[i][j+1])*int(grid_str[i][j+2])*int(grid_str[i][j+3]))\n",
    "        multiples.append(int(grid_str[i][19-j])*int(grid_str[i][18-j])*int(grid_str[i][17-j])*int(grid_str[i][16-j]))\n",
    "        multiples.append(int(grid_str[j][i])*int(grid_str[j+1][i])*int(grid_str[j+2][i])*int(grid_str[j+3][i]))\n",
    "        multiples.append(int(grid_str[19-j][i])*int(grid_str[18-j][i])*int(grid_str[17-j][i])*int(grid_str[16-j][i]))\n",
    "        while i < len(grid_str) - 3:\n",
    "            multiples.append(int(grid_str[i][j])*int(grid_str[i+1][j+1])*int(grid_str[i+2][j+2])*int(grid_str[i+3][j+3]))\n",
    "            multiples.append(int(grid_str[19-i][19-j])*int(grid_str[18-i][18-j])*int(grid_str[17-i][17-j])*int(grid_str[16-i][16-j]))\n",
    "            multiples.append(int(grid_str[i][19-j])*int(grid_str[i+1][18-j])*int(grid_str[i+2][17-j])*int(grid_str[i+3][16-j]))\n",
    "            multiples.append(int(grid_str[19-i][j])*int(grid_str[18-i][j+1])*int(grid_str[17-i][j+2])*int(grid_str[16-i][j+3]))\n",
    "\n",
    "            i +=1\n",
    "            \n",
    "        i = i_1\n",
    "        j += 1\n",
    "        \n",
    "\n",
    "    i += 1\n",
    "\n",
    "\n",
    "max(multiples)\n"
   ]
  },
  {
   "cell_type": "code",
   "execution_count": 410,
   "metadata": {},
   "outputs": [
    {
     "name": "stdout",
     "output_type": "stream",
     "text": [
      "76576500\n"
     ]
    }
   ],
   "source": [
    "#Problem 12\n",
    "def factors(x):\n",
    "    result = []\n",
    "    i = 1\n",
    "    while i*i <= x:\n",
    "        if x % i == 0:\n",
    "            result.append(i)\n",
    "            if x//i != i:\n",
    "                result.append(x//i)\n",
    "        i += 1\n",
    "    return result\n",
    "\n",
    "count, i, factor_len= 0, 0, 0\n",
    "while factor_len <= 500:\n",
    "    count = count + 1\n",
    "    i = count + i\n",
    "    factor_len = len(factors(i))\n",
    "print(i)\n",
    "    "
   ]
  },
  {
   "cell_type": "code",
   "execution_count": 70,
   "metadata": {},
   "outputs": [
    {
     "name": "stdout",
     "output_type": "stream",
     "text": [
      "5537376230390876637302048746832985971773659831892672\n"
     ]
    }
   ],
   "source": [
    "#Problem 13\n",
    "\n",
    "number_str = \"\"\"37107287533902102798797998220837590246510135740250\n",
    "46376937677490009712648124896970078050417018260538\n",
    "74324986199524741059474233309513058123726617309629\n",
    "91942213363574161572522430563301811072406154908250\n",
    "23067588207539346171171980310421047513778063246676\n",
    "89261670696623633820136378418383684178734361726757\n",
    "28112879812849979408065481931592621691275889832738\n",
    "44274228917432520321923589422876796487670272189318\n",
    "47451445736001306439091167216856844588711603153276\n",
    "70386486105843025439939619828917593665686757934951\n",
    "62176457141856560629502157223196586755079324193331\n",
    "64906352462741904929101432445813822663347944758178\n",
    "92575867718337217661963751590579239728245598838407\n",
    "58203565325359399008402633568948830189458628227828\n",
    "80181199384826282014278194139940567587151170094390\n",
    "35398664372827112653829987240784473053190104293586\n",
    "86515506006295864861532075273371959191420517255829\n",
    "71693888707715466499115593487603532921714970056938\n",
    "54370070576826684624621495650076471787294438377604\n",
    "53282654108756828443191190634694037855217779295145\n",
    "36123272525000296071075082563815656710885258350721\n",
    "45876576172410976447339110607218265236877223636045\n",
    "17423706905851860660448207621209813287860733969412\n",
    "81142660418086830619328460811191061556940512689692\n",
    "51934325451728388641918047049293215058642563049483\n",
    "62467221648435076201727918039944693004732956340691\n",
    "15732444386908125794514089057706229429197107928209\n",
    "55037687525678773091862540744969844508330393682126\n",
    "18336384825330154686196124348767681297534375946515\n",
    "80386287592878490201521685554828717201219257766954\n",
    "78182833757993103614740356856449095527097864797581\n",
    "16726320100436897842553539920931837441497806860984\n",
    "48403098129077791799088218795327364475675590848030\n",
    "87086987551392711854517078544161852424320693150332\n",
    "59959406895756536782107074926966537676326235447210\n",
    "69793950679652694742597709739166693763042633987085\n",
    "41052684708299085211399427365734116182760315001271\n",
    "65378607361501080857009149939512557028198746004375\n",
    "35829035317434717326932123578154982629742552737307\n",
    "94953759765105305946966067683156574377167401875275\n",
    "88902802571733229619176668713819931811048770190271\n",
    "25267680276078003013678680992525463401061632866526\n",
    "36270218540497705585629946580636237993140746255962\n",
    "24074486908231174977792365466257246923322810917141\n",
    "91430288197103288597806669760892938638285025333403\n",
    "34413065578016127815921815005561868836468420090470\n",
    "23053081172816430487623791969842487255036638784583\n",
    "11487696932154902810424020138335124462181441773470\n",
    "63783299490636259666498587618221225225512486764533\n",
    "67720186971698544312419572409913959008952310058822\n",
    "95548255300263520781532296796249481641953868218774\n",
    "76085327132285723110424803456124867697064507995236\n",
    "37774242535411291684276865538926205024910326572967\n",
    "23701913275725675285653248258265463092207058596522\n",
    "29798860272258331913126375147341994889534765745501\n",
    "18495701454879288984856827726077713721403798879715\n",
    "38298203783031473527721580348144513491373226651381\n",
    "34829543829199918180278916522431027392251122869539\n",
    "40957953066405232632538044100059654939159879593635\n",
    "29746152185502371307642255121183693803580388584903\n",
    "41698116222072977186158236678424689157993532961922\n",
    "62467957194401269043877107275048102390895523597457\n",
    "23189706772547915061505504953922979530901129967519\n",
    "86188088225875314529584099251203829009407770775672\n",
    "11306739708304724483816533873502340845647058077308\n",
    "82959174767140363198008187129011875491310547126581\n",
    "97623331044818386269515456334926366572897563400500\n",
    "42846280183517070527831839425882145521227251250327\n",
    "55121603546981200581762165212827652751691296897789\n",
    "32238195734329339946437501907836945765883352399886\n",
    "75506164965184775180738168837861091527357929701337\n",
    "62177842752192623401942399639168044983993173312731\n",
    "32924185707147349566916674687634660915035914677504\n",
    "99518671430235219628894890102423325116913619626622\n",
    "73267460800591547471830798392868535206946944540724\n",
    "76841822524674417161514036427982273348055556214818\n",
    "97142617910342598647204516893989422179826088076852\n",
    "87783646182799346313767754307809363333018982642090\n",
    "10848802521674670883215120185883543223812876952786\n",
    "71329612474782464538636993009049310363619763878039\n",
    "62184073572399794223406235393808339651327408011116\n",
    "66627891981488087797941876876144230030984490851411\n",
    "60661826293682836764744779239180335110989069790714\n",
    "85786944089552990653640447425576083659976645795096\n",
    "66024396409905389607120198219976047599490197230297\n",
    "64913982680032973156037120041377903785566085089252\n",
    "16730939319872750275468906903707539413042652315011\n",
    "94809377245048795150954100921645863754710598436791\n",
    "78639167021187492431995700641917969777599028300699\n",
    "15368713711936614952811305876380278410754449733078\n",
    "40789923115535562561142322423255033685442488917353\n",
    "44889911501440648020369068063960672322193204149535\n",
    "41503128880339536053299340368006977710650566631954\n",
    "81234880673210146739058568557934581403627822703280\n",
    "82616570773948327592232845941706525094512325230608\n",
    "22918802058777319719839450180888072429661980811197\n",
    "77158542502016545090413245809786882778948721859617\n",
    "72107838435069186155435662884062257473692284509516\n",
    "20849603980134001723930671666823555245252804609722\n",
    "53503534226472524250874054075591789781264330331690\"\"\"\n",
    "\n",
    "numbers = number_str.splitlines()\n",
    "total = 0\n",
    "for line in numbers:\n",
    "    total += int(line)\n",
    "print(total)"
   ]
  },
  {
   "cell_type": "code",
   "execution_count": 77,
   "metadata": {},
   "outputs": [
    {
     "name": "stdout",
     "output_type": "stream",
     "text": [
      "525 837799\n"
     ]
    }
   ],
   "source": [
    "#Problem 14\n",
    "i = 1\n",
    "max_len = 0\n",
    "while i < 1000000:\n",
    "    chain = []\n",
    "    n = i\n",
    "    chain.append(n)\n",
    "    while n > 1:\n",
    "        if n % 2 == 0:\n",
    "            n = int(n/2)\n",
    "        else:\n",
    "            n = 3*n + 1\n",
    "        chain.append(n)\n",
    "        if n == 1:\n",
    "            continue\n",
    "    i +=1\n",
    "    if len(chain) > max_len:\n",
    "        max_len = len(chain)\n",
    "        max_i = i - 1\n",
    "print(max_len, max_i)            \n"
   ]
  },
  {
   "cell_type": "code",
   "execution_count": 130,
   "metadata": {},
   "outputs": [
    {
     "data": {
      "text/plain": [
       "137846528820.0"
      ]
     },
     "execution_count": 130,
     "metadata": {},
     "output_type": "execute_result"
    }
   ],
   "source": [
    "#problem 15\n",
    "paths=0\n",
    "grid_size = 2\n",
    "def lattice_path(node):\n",
    "    global paths\n",
    "    if node[0] >= grid_size and node[1] >= grid_size:\n",
    "        paths +=1\n",
    "        return\n",
    "    else:\n",
    "        if node[0]<grid_size+1 and node[1] < grid_size+1:\n",
    "            lattice_path((node[0]+1, node[1]))\n",
    "            lattice_path((node[0], node[1]+1))\n",
    "    return paths\n",
    "\n",
    "#(2,6,20,70, 252, 924)\n",
    "# Has a binomial relationship therefore,\n",
    "#binomial(2*n,n) = (2*n)!/(n!)^2.\n",
    "\n",
    "def factorial(n):\n",
    "    factorial = 1\n",
    "    for i in range(1,n+1):\n",
    "        factorial *= i\n",
    "    return(factorial)\n",
    "\n",
    "factorial(2*20)/factorial(20)**2"
   ]
  },
  {
   "cell_type": "code",
   "execution_count": 19,
   "metadata": {},
   "outputs": [
    {
     "name": "stdout",
     "output_type": "stream",
     "text": [
      "1366\n"
     ]
    }
   ],
   "source": [
    "#problem 16\n",
    "i, sol, solution = 0, 1, 0\n",
    "while i < 1000:\n",
    "    sol *= 2\n",
    "    i += 1\n",
    "sol_list = list(str(sol))\n",
    "for i in sol_list:\n",
    "    solution += int(i)\n",
    "print(solution)"
   ]
  },
  {
   "cell_type": "code",
   "execution_count": 397,
   "metadata": {},
   "outputs": [
    {
     "name": "stdout",
     "output_type": "stream",
     "text": [
      "21124\n"
     ]
    }
   ],
   "source": [
    "#problem 17\n",
    "\"\"\"\n",
    "If the numbers 1 to 5 are written out in words: one, two, three, four, \n",
    "five, then there are 3 + 3 + 5 + 4 + 4 = 19 letters used in total.\n",
    "\n",
    "If all the numbers from 1 to 1000 (one thousand) inclusive were written \n",
    "out in words, how many letters would be used?\n",
    "\n",
    "\n",
    "NOTE: Do not count spaces or hyphens. For example, 342 \n",
    "(three hundred and forty-two) contains 23 letters and 115 (one hundred and fifteen) \n",
    "contains 20 letters. The use of \"and\" when writing out numbers is in compliance with \n",
    "British usage.\n",
    "\"\"\"\n",
    "\n",
    "one_to_nine = ['', 'one', 'two', 'three', 'four', 'five', 'six', 'seven', 'eight', 'nine']\n",
    "teens = [ 'ten', 'eleven', 'twelve', 'thirteen', 'fourteen', 'fifteen', 'sixteen', 'seventeen',\n",
    "'eighteen', 'nineteen']\n",
    "tens = ['', 'twenty', 'thirty', 'forty', 'fifty', 'sixty', 'seventy', 'eighty', 'ninety']\n",
    "\n",
    "sum_total = 0\n",
    "for l in one_to_nine:\n",
    "    if len(l) > 1:\n",
    "        l = l + 'hundredand'\n",
    "    for i in teens:\n",
    "        sum_total += len(l+i)\n",
    "    for j in tens:\n",
    "        for k in one_to_nine:\n",
    "            if k == '' and j == '' and len(l) > 1:\n",
    "                m = l[0:-3]\n",
    "                sum_total += len(m)\n",
    "            else:\n",
    "                sum_total += len(l+j+k)\n",
    "sum_total += len('onethousand')\n",
    "print(sum_total)"
   ]
  },
  {
   "cell_type": "code",
   "execution_count": 384,
   "metadata": {},
   "outputs": [
    {
     "data": {
      "text/plain": [
       "1074"
      ]
     },
     "execution_count": 384,
     "metadata": {},
     "output_type": "execute_result"
    }
   ],
   "source": [
    "#Problem 18\n",
    "triangle = \"\"\"75\n",
    "95 64\n",
    "17 47 82\n",
    "18 35 87 10\n",
    "20 04 82 47 65\n",
    "19 01 23 75 03 34\n",
    "88 02 77 73 07 63 67\n",
    "99 65 04 28 06 16 70 92\n",
    "41 41 26 56 83 40 80 70 33\n",
    "41 48 72 33 47 32 37 16 94 29\n",
    "53 71 44 65 25 43 91 52 97 51 14\n",
    "70 11 33 28 77 73 17 78 39 68 17 57\n",
    "91 71 52 38 17 14 91 43 58 50 27 29 48\n",
    "63 66 04 68 89 53 67 30 73 16 69 87 40 31\n",
    "04 62 98 27 23 09 70 98 73 93 38 53 60 04 23\"\"\"\n",
    "\n",
    "triangle_rows = [i.split(' ') for i in triangle.split(\"\\n\")]\n",
    "triangle_list = []\n",
    "\n",
    "def triangle_rec(row, node, path_length):\n",
    "    global triangle_list\n",
    "    if row >= len(triangle_rows):\n",
    "        triangle_list.append(path_length)\n",
    "        return 1\n",
    "    \n",
    "    if row < len(triangle_rows):\n",
    "        path_length += int(triangle_rows[row][node])\n",
    "        triangle_rec(row+1, node, path_length)\n",
    "        triangle_rec(row+1, node+1, path_length)\n",
    "    return(triangle_list)\n",
    "    \n",
    "max(triangle_rec(0, 0, 0))\n"
   ]
  },
  {
   "cell_type": "code",
   "execution_count": 143,
   "metadata": {},
   "outputs": [
    {
     "name": "stdout",
     "output_type": "stream",
     "text": [
      "171\n"
     ]
    }
   ],
   "source": [
    "#Problem 19\n",
    "\"\"\"\n",
    "You are given the following information, but you may prefer to do some research for yourself.\n",
    "\n",
    "    - 1 Jan 1900 was a Monday.\n",
    "    - Thirty days has September,\n",
    "    - April, June and November.\n",
    "    - All the rest have thirty-one,\n",
    "    - Saving February alone,\n",
    "    -Which has twenty-eight, rain or shine.\n",
    "    - And on leap years, twenty-nine.\n",
    "A leap year occurs on any year evenly divisible by 4, but not on a century \n",
    "unless it is divisible by 400. - done\n",
    "How many Sundays fell on the first of the month during the twentieth century (\n",
    "1 Jan 1901 to 31 Dec 2000)?\n",
    "\"\"\"\n",
    "\n",
    "\n",
    "year = 1900\n",
    "day = 1\n",
    "def leap_year(year):\n",
    "    if year % 4 == 0: \n",
    "        if year % 400 == 0 :\n",
    "            return True\n",
    "        if year % 100 == 0 :\n",
    "            return False\n",
    "        else: return True\n",
    "    else: return False\n",
    "\n",
    "month_days = {'January' : 31, 'February' : 28, 'March' : 31, 'April' : 30, \n",
    "              'May' : 31, 'June' : 30, 'July' : 31, 'August' : 31, 'September' : 30,\n",
    "              'October' : 31, 'November' : 30, 'December' : 31}\n",
    "week_day = ['Monday', 'Tuesday', 'Wednesday', 'Thursday', 'Friday', 'Saturday', 'Sunday']\n",
    "\n",
    "all_days = []\n",
    "\n",
    "while year < 2001:\n",
    "    for key, value in month_days.items():\n",
    "        if leap_year(year) == True and key == 'February':\n",
    "            days = 1\n",
    "            while days <= value + 1:\n",
    "                all_days.append(str(year) + str(key) + str(days))\n",
    "                days += 1\n",
    "        else:\n",
    "            days = 1\n",
    "            while days <= value:\n",
    "                all_days.append(str(year) + str(key) + str(days))\n",
    "                days +=1\n",
    "\n",
    "    year += 1\n",
    "\n",
    "i = 0\n",
    "sunday_count = 0\n",
    "\n",
    "for day in all_days:\n",
    "    if int(day[0:4]) > 1900 and i == 6:\n",
    "        if day.endswith(\"1\") == True and day.endswith(\"11\") == False and day.endswith(\"21\") == False and day.endswith(\"31\") == False:\n",
    "            sunday_count += 1\n",
    "    i += 1\n",
    "    if i == 7:\n",
    "        i = 0\n",
    "\n",
    "print(sunday_count)    "
   ]
  },
  {
   "cell_type": "code",
   "execution_count": 391,
   "metadata": {},
   "outputs": [
    {
     "data": {
      "text/plain": [
       "648"
      ]
     },
     "execution_count": 391,
     "metadata": {},
     "output_type": "execute_result"
    }
   ],
   "source": [
    "#Problem 20\n",
    "\"\"\"\n",
    "n! means n × (n − 1) × ... × 3 × 2 × 1\n",
    "\n",
    "For example, 10! = 10 × 9 × ... × 3 × 2 × 1 = 3628800,\n",
    "and the sum of the digits in the number 10! is 3 + 6 + 2 + 8 + 8 + 0 + 0 = 27.\n",
    "\n",
    "Find the sum of the digits in the number 100!\n",
    "\"\"\"\n",
    "\n",
    "def factorial(i):\n",
    "    value = 1\n",
    "    while i > 0:\n",
    "        value *= i\n",
    "        i -= 1\n",
    "    return(value)\n",
    "\n",
    "sum(list(map(int, list(str(factorial(100))))))\n"
   ]
  },
  {
   "cell_type": "code",
   "execution_count": 415,
   "metadata": {},
   "outputs": [
    {
     "data": {
      "text/plain": [
       "31626"
      ]
     },
     "execution_count": 415,
     "metadata": {},
     "output_type": "execute_result"
    }
   ],
   "source": [
    "#Problem 21\n",
    "\"\"\"\n",
    "Let d(n) be defined as the sum of proper divisors of n (numbers less than \n",
    "n which divide evenly into n).\n",
    "If d(a) = b and d(b) = a, where a ≠ b, then a and b are an amicable pair \n",
    "and each of a and b are called amicable numbers.\n",
    "\n",
    "For example, the proper divisors of 220 are 1, 2, 4, 5, 10, 11, 20, 22, 44, 55 and 110; \n",
    "therefore d(220) = 284. The proper divisors of 284 are 1, 2, 4, 71 and 142; so d(284) = 220.\n",
    "\n",
    "Evaluate the sum of all the amicable numbers under 10000.\n",
    "\"\"\"\n",
    "\n",
    "\n",
    "\n",
    "def divisors_sum(a):\n",
    "    \"\"\"\n",
    "    Purpose: Find the sum of all the divisors of a number\n",
    "    Input: Integer\n",
    "    Output: Integer\n",
    "    \"\"\"\n",
    "    divisor = 0\n",
    "    i = 1\n",
    "    \n",
    "    while i < a:\n",
    "        if a % i == 0:\n",
    "            divisor = divisor + i\n",
    "            i = i + 1\n",
    "        else:\n",
    "            i = i + 1\n",
    "    \n",
    "    return(divisor)\n",
    "\n",
    "def amicable_divisors(a):\n",
    "    \"\"\"\n",
    "    Purpose: Find all the amicable numbers less than number a\n",
    "    and sum them together\n",
    "    Input: Integer\n",
    "    Output: Integer\n",
    "    \"\"\"\n",
    "    i = 1\n",
    "    divisors_dictionary = {}\n",
    "    total = 0\n",
    "    while i <= a:\n",
    "        current = divisors_sum(i)\n",
    "        \n",
    "        \n",
    "        for key, value in divisors_dictionary.items():\n",
    "                if key == current:\n",
    "                    if value == i:\n",
    "                        #print(key,value)\n",
    "                        #print(i,current)\n",
    "                        total = total + key + value\n",
    "        divisors_dictionary[i] = current\n",
    "        i = i + 1\n",
    "    \n",
    "    return(total)\n",
    "amicable_divisors(10000)"
   ]
  },
  {
   "cell_type": "code",
   "execution_count": 418,
   "metadata": {},
   "outputs": [
    {
     "data": {
      "text/plain": [
       "871198282"
      ]
     },
     "execution_count": 418,
     "metadata": {},
     "output_type": "execute_result"
    }
   ],
   "source": [
    "#Problem 22\n",
    "\"\"\"\n",
    "Created on Tue Jul  3 01:44:06 2018\n",
    "\n",
    "Author: Liv d'Aliberti\n",
    "Using names.txt (right click and 'Save Link/Target As...'), a 46K text file containing over five-thousand first names, begin by sorting it into alphabetical order. Then working out the alphabetical value for each name, multiply this value by its alphabetical position in the list to obtain a name score.\n",
    "\n",
    "For example, when the list is sorted into alphabetical order, COLIN, which is worth 3 + 15 + 12 + 9 + 14 = 53, is the 938th name in the list. So, COLIN would obtain a score of 938 × 53 = 49714.\n",
    "\n",
    "What is the total of all the name scores in the file?\n",
    "\"\"\"\n",
    "\n",
    "with open('names.txt') as f:\n",
    "    names = f.read()\n",
    "\n",
    "def sortnames(names):\n",
    "    \"\"\"\n",
    "    Input: A list of names\n",
    "    Output: The sum of all the letters of all the names multiplied by \n",
    "    the names place in alphabetical order in the file\n",
    "    Purpose: Find the total of all the name scores in the file \n",
    "    \"\"\"\n",
    "    name_list = names.split(\",\")\n",
    "    count = 1\n",
    "    file_sum = 0    \n",
    "    letters_numbers = { k: (v+1) for v, \n",
    "                       k in enumerate(\"ABCDEFGHIJKLMNOPQRSTUVWXYZ\")}\n",
    "\n",
    "    name_list.sort()\n",
    "    #print(letters_numbers)\n",
    "    \n",
    "    \n",
    "    for name in name_list:\n",
    "        name = name.replace('\"','')\n",
    "        name_value = 0\n",
    "        for letter in name:\n",
    "            letter_value = letters_numbers.get(letter)\n",
    "            name_value = name_value + letter_value\n",
    "        name_value_total = name_value * count\n",
    "        #print(name_value_total, count, name_value,name)\n",
    "        count = count + 1\n",
    "        file_sum = file_sum + name_value_total\n",
    "    \n",
    "    return(file_sum)\n",
    "\n",
    "sortnames(names)"
   ]
  },
  {
   "cell_type": "code",
   "execution_count": 423,
   "metadata": {},
   "outputs": [
    {
     "data": {
      "text/plain": [
       "4179871"
      ]
     },
     "execution_count": 423,
     "metadata": {},
     "output_type": "execute_result"
    }
   ],
   "source": [
    "#Problem 23\n",
    "\"\"\"\n",
    "Created on Fri Aug 17 21:07:24 2018\n",
    "\n",
    "@author: Liv d'Aliberti\n",
    "\n",
    "A perfect number is a number for which the sum of its proper divisors \n",
    "is exactly equal to the number. For example, the sum of the proper \n",
    "divisors of 28 would be 1 + 2 + 4 + 7 + 14 = 28, which means that 28 \n",
    "is a perfect number.\n",
    "\n",
    "A number n is called deficient if the sum of its proper divisors is less \n",
    "than n and it is called abundant if this sum exceeds n.\n",
    "\n",
    "As 12 is the smallest abundant number, 1 + 2 + 3 + 4 + 6 = 16, the \n",
    "smallest number that can be written as the sum of two abundant numbers \n",
    "is 24. By mathematical analysis, it can be shown that all integers greater \n",
    "than 28123 can be written as the sum of two abundant numbers. However, \n",
    "this upper limit cannot be reduced any further by analysis even though \n",
    "it is known that the greatest number that cannot be expressed as the sum \n",
    "of two abundant numbers is less than this limit.\n",
    "\n",
    "Find the sum of all the positive integers which cannot be written \n",
    "as the sum of two abundant numbers.\n",
    "\"\"\"\n",
    "\n",
    "def abundant_number_test(integer_input):\n",
    "    \"\"\"\n",
    "    Purpose: Determine whether a number is an abundant number of a \n",
    "    non-abundant number\n",
    "    Input: An integer value\n",
    "    Output: A True or False Statement\n",
    "    \"\"\"\n",
    "    i = 1\n",
    "    divisor_sum = 0\n",
    "    \n",
    "    while i < integer_input:\n",
    "        if (integer_input % i) == 0:\n",
    "            divisor_sum = divisor_sum + i\n",
    "        \n",
    "        i = i + 1\n",
    "        \n",
    "    if divisor_sum > integer_input:\n",
    "        #If the sum of divisors is greater than the integer input, return\n",
    "        #true\n",
    "        return(True)\n",
    "    else:\n",
    "        return(False)\n",
    "    \n",
    "\n",
    "def abundant_list(length):\n",
    "    \"\"\"\n",
    "    Purpose: Find all integers less than 28123 (the upper limit) that\n",
    "    are not the sum of two abundant numbers.\n",
    "    Input: The max integer evaluated\n",
    "    Outputs: The sum of all integers that are not the sum of two abundant\n",
    "    numbers.\n",
    "    \"\"\"\n",
    "    j = 1\n",
    "    l = 1\n",
    "    abundant_set = set()\n",
    "    #set of all abundant numbers\n",
    "    abundant_sums = set()\n",
    "    #set of all sums of two abundant numbers\n",
    "    not_abundant_sums = 0\n",
    "    \n",
    "    \n",
    "    while j < length:\n",
    "        #Determine, for all numbers less that the max, whether abundant\n",
    "        #or non-abundant\n",
    "        if abundant_number_test(j) == True:\n",
    "            abundant_set.add(j)\n",
    "            for k in abundant_set:\n",
    "            #If abundant, then add all possible summations to the set of\n",
    "            #abundant sum numbers\n",
    "                abundant_sums.add(k+j)\n",
    "        j = j + 1\n",
    "    \n",
    "    while l < length:\n",
    "        #If not in the set of abundant sum numbers, add to not_abundant_sums\n",
    "        if l not in abundant_sums:\n",
    "            not_abundant_sums = not_abundant_sums + l\n",
    "        l = l + 1\n",
    "    \n",
    "    return(not_abundant_sums)\n",
    "\n",
    "abundant_list(28123)"
   ]
  },
  {
   "cell_type": "code",
   "execution_count": 183,
   "metadata": {},
   "outputs": [
    {
     "name": "stdout",
     "output_type": "stream",
     "text": [
      "1000000\n",
      "2783915460\n"
     ]
    }
   ],
   "source": [
    "#Problem 24\n",
    "\"\"\"\n",
    "A permutation is an ordered arrangement of objects. For example, \n",
    "3124 is one possible permutation of the digits 1, 2, 3 and 4. \n",
    "If all of the permutations are listed numerically or alphabetically, \n",
    "we call it lexicographic order. The lexicographic permutations of 0, 1 and 2 are:\n",
    "\n",
    "012   021   102   120   201   210\n",
    "\n",
    "What is the millionth lexicographic permutation of the digits \n",
    "0, 1, 2, 3, 4, 5, 6, 7, 8 and 9?\n",
    "\"\"\"\n",
    "count = 0\n",
    "def permutations(digits, tail=''):\n",
    "    global count\n",
    "    if len(digits) == 0:\n",
    "        count += 1\n",
    "        if count == 1000000:\n",
    "            print(count)\n",
    "            print(tail)\n",
    "    else:\n",
    "        for i in range(len(digits)):\n",
    "            permutations(digits[0:i] + digits[i+1:], tail+digits[i])\n",
    "\n",
    "permutations('0123456789')"
   ]
  },
  {
   "cell_type": "code",
   "execution_count": 435,
   "metadata": {},
   "outputs": [
    {
     "name": "stdout",
     "output_type": "stream",
     "text": [
      "4782\n"
     ]
    }
   ],
   "source": [
    "#Problem 25\n",
    "\"\"\"\n",
    "The Fibonacci sequence is defined by the recurrence relation:\n",
    "\n",
    "Fn = Fn−1 + Fn−2, where F1 = 1 and F2 = 1.\n",
    "Hence the first 12 terms will be:\n",
    "\n",
    "F1 = 1\n",
    "F2 = 1\n",
    "F3 = 2\n",
    "F4 = 3\n",
    "F5 = 5\n",
    "F6 = 8\n",
    "F7 = 13\n",
    "F8 = 21\n",
    "F9 = 34\n",
    "F10 = 55\n",
    "F11 = 89\n",
    "F12 = 144\n",
    "The 12th term, F12, is the first term to contain three digits.\n",
    "\n",
    "What is the index of the first term in the Fibonacci sequence to contain 1000 digits?\n",
    "\"\"\"\n",
    "\n",
    "n_1 = 1\n",
    "n_2 = 1\n",
    "count = 2\n",
    "while len(list(str(n_1))) < 1000:\n",
    "    next_1 = n_1 + n_2\n",
    "    count = count+1\n",
    "    n_2 = n_1\n",
    "    n_1 = next_1\n",
    "print(count)"
   ]
  },
  {
   "cell_type": "code",
   "execution_count": 505,
   "metadata": {},
   "outputs": [
    {
     "data": {
      "text/plain": [
       "'\\nFind the value of d < 1000 for which 1/d contains the longest recurring \\ncycle in its decimal fraction part.\\n'"
      ]
     },
     "execution_count": 505,
     "metadata": {},
     "output_type": "execute_result"
    }
   ],
   "source": [
    "#Problem 26\n",
    "\"\"\"\n",
    "Find the value of d < 1000 for which 1/d contains the longest recurring \n",
    "cycle in its decimal fraction part.\n",
    "\"\"\"\n"
   ]
  },
  {
   "cell_type": "code",
   "execution_count": 514,
   "metadata": {},
   "outputs": [],
   "source": [
    "#Problem 27\n"
   ]
  },
  {
   "cell_type": "code",
   "execution_count": 262,
   "metadata": {},
   "outputs": [
    {
     "name": "stdout",
     "output_type": "stream",
     "text": [
      "669171001\n"
     ]
    }
   ],
   "source": [
    "#Problem 28\n",
    "\n",
    "m = 1001\n",
    "n = m**2\n",
    "i = m+1\n",
    "corners = 0\n",
    "total = 0\n",
    "diagonal_list = [n]\n",
    "\n",
    "while i > 2:\n",
    "    i -= 2\n",
    "    corners = 0\n",
    "    while corners < 4:\n",
    "        diagonal_list.append(n-i)\n",
    "        n -= i\n",
    "        corners += 1\n",
    "\n",
    "print(sum(diagonal_list))\n"
   ]
  },
  {
   "cell_type": "code",
   "execution_count": 275,
   "metadata": {},
   "outputs": [
    {
     "data": {
      "text/plain": [
       "9183"
      ]
     },
     "execution_count": 275,
     "metadata": {},
     "output_type": "execute_result"
    }
   ],
   "source": [
    "#Problem 29\n",
    "a = range(2,101)\n",
    "b = range(2,101)\n",
    "c = set()\n",
    "for i in a:\n",
    "    for j in b:\n",
    "\n",
    "        c.add(i**j)\n",
    "len(c)"
   ]
  },
  {
   "cell_type": "code",
   "execution_count": 277,
   "metadata": {},
   "outputs": [],
   "source": [
    "#Problem 30\n"
   ]
  },
  {
   "cell_type": "code",
   "execution_count": 302,
   "metadata": {},
   "outputs": [
    {
     "name": "stdout",
     "output_type": "stream",
     "text": [
      "145\n",
      "40585\n",
      "40730\n"
     ]
    }
   ],
   "source": [
    "#Problem 34\n",
    "\"\"\"\n",
    "145 is a curious number, as 1! + 4! + 5! = 1 + 24 + 120 = 145.\n",
    "\n",
    "Find the sum of all numbers which are equal to the sum \n",
    "of the factorial of their digits.\n",
    "\n",
    "Note: as 1! = 1 and 2! = 2 are not sums they are not included.\n",
    "\"\"\"\n",
    "\n",
    "factorial_sum = 0\n",
    "\n",
    "def factorial(i):\n",
    "    value = 1\n",
    "    while i > 0:\n",
    "        value *= i\n",
    "        i -= 1\n",
    "    return(value)\n",
    "\n",
    "for i in range(3, 10000000):\n",
    "    sum_fac_nums = 0\n",
    "    numbers = list(str(i))\n",
    "    for j in numbers:\n",
    "        sum_fac_nums += factorial(int(j))\n",
    "    if sum_fac_nums == i:\n",
    "        print(i)\n",
    "        factorial_sum += i\n",
    "\n",
    "\n",
    "print(factorial_sum)"
   ]
  },
  {
   "cell_type": "code",
   "execution_count": 394,
   "metadata": {},
   "outputs": [
    {
     "data": {
      "text/plain": [
       "872187"
      ]
     },
     "execution_count": 394,
     "metadata": {},
     "output_type": "execute_result"
    }
   ],
   "source": [
    "\"\"\"\n",
    "The decimal number, 585 = 1001001001 (binary), is palindromic in both bases.\n",
    "\n",
    "Find the sum of all numbers, less than one million, \n",
    "which are palindromic in base 10 and base 2.\n",
    "\n",
    "(Please note that the palindromic number, in either base, may not include leading zeros.)\n",
    "\"\"\"\n",
    "\n",
    "def palindrome(i):\n",
    "    num_list = list(str(i))\n",
    "    while len(num_list) >= 1:\n",
    "        if num_list[0] == num_list[len(num_list)-1]:\n",
    "            num_list = num_list[1:-1]\n",
    "        else: return False\n",
    "    return True\n",
    "\n",
    "i = 1\n",
    "sum_pal = 0\n",
    "while i < 1000000:\n",
    "    if palindrome(i) == True and palindrome(int(bin(i)[2:])):\n",
    "        sum_pal += i\n",
    "    i += 1\n",
    "\n",
    "sum_pal"
   ]
  },
  {
   "cell_type": "code",
   "execution_count": 540,
   "metadata": {},
   "outputs": [
    {
     "name": "stdout",
     "output_type": "stream",
     "text": [
      "932718654\n"
     ]
    }
   ],
   "source": [
    "#Problem 38\n",
    "\n",
    "max_num = 0\n",
    "\n",
    "for i in range(1, 10000):\n",
    "    k = \"\"\n",
    "    for j in range(1, 10):\n",
    "        k += str(i*j)\n",
    "        if len(k) > 9:\n",
    "            break\n",
    "    if len(k) > 9:\n",
    "        k = k[:-len(str(i*j))]\n",
    "        \n",
    "    for l in range(1,10):\n",
    "        if k.find(str(l)) == -1:\n",
    "            k = \"\"\n",
    "    if k != \"\":\n",
    "        if int(k) > max_num:\n",
    "            max_num = int(k)\n",
    "    \n",
    "print(max_num)\n",
    "        "
   ]
  },
  {
   "cell_type": "code",
   "execution_count": 564,
   "metadata": {},
   "outputs": [
    {
     "name": "stdout",
     "output_type": "stream",
     "text": [
      "840.0\n"
     ]
    }
   ],
   "source": [
    "#Problem 39\n",
    "\n",
    "perimeter_freq = {}\n",
    "\n",
    "for a in range(1, 500) :\n",
    "    for b in range(1, 500) :\n",
    "        c = (a**2 + b**2)**0.5\n",
    "        perimeter = a + b + c\n",
    "        try:\n",
    "            perimeter_freq[perimeter] +=1\n",
    "        except:\n",
    "            perimeter_freq[perimeter] =1\n",
    "                    \n",
    "max_val = max(perimeter_freq.values())\n",
    "for key, value in perimeter_freq.items():\n",
    "    if value == max_val:\n",
    "        print(key)"
   ]
  },
  {
   "cell_type": "code",
   "execution_count": 572,
   "metadata": {},
   "outputs": [
    {
     "name": "stdout",
     "output_type": "stream",
     "text": [
      "210\n"
     ]
    }
   ],
   "source": [
    "#Problem 40\n",
    "\n",
    "pos_str = \"\"\n",
    "for i in range(1,1000000):\n",
    "    pos_str+=str(i)\n",
    "    \n",
    "print(int(pos_str[0]) * int(pos_str[9]) * int(pos_str[99]) * int(pos_str[999]) * int(pos_str[9999]) * int(pos_str[99999]) * int(pos_str[999999]))"
   ]
  },
  {
   "cell_type": "code",
   "execution_count": 4,
   "metadata": {},
   "outputs": [
    {
     "name": "stdout",
     "output_type": "stream",
     "text": [
      "7652413\n"
     ]
    }
   ],
   "source": [
    "#Problem 41\n",
    "\n",
    "def prime_eratosthenes(m, n):\n",
    "    not_prime = set()\n",
    "    prime = set()\n",
    "    prime_sum = 0\n",
    "    for i in range(2, n+1):\n",
    "        if i not in not_prime:\n",
    "            prime.add(i)\n",
    "        for j in range(i*i, n+1, i):\n",
    "            not_prime.add(j)\n",
    "    return prime\n",
    "\n",
    "primes = prime_eratosthenes(2,20000000)\n",
    "\n",
    "pan_primes = set()\n",
    "for i in primes:\n",
    "    for l in range(1,10):\n",
    "        if len(str(i)) >= l:\n",
    "            if str(i).find(str(l)) == -1:\n",
    "                i = 0\n",
    "    if i != 0:\n",
    "        pan_primes.add(i)\n",
    "\n",
    "print(max(pan_primes))"
   ]
  },
  {
   "cell_type": "code",
   "execution_count": 6,
   "metadata": {},
   "outputs": [
    {
     "name": "stdout",
     "output_type": "stream",
     "text": [
      "[0.0, 1.0, 3.0, 6.0, 10.0, 15.0, 21.0, 28.0, 36.0, 45.0]\n"
     ]
    }
   ],
   "source": [
    "#Problem 42\n",
    "\n",
    "triangle_list = []\n",
    "\n",
    "for i in range(0,10):\n",
    "    triangle_list.append(0.5 * i * (i + 1))\n",
    "\n",
    "with open('words.txt') as f:\n",
    "    words = f.read()\n",
    "\n",
    "words_list = words.split(\",\")\n"
   ]
  },
  {
   "cell_type": "code",
   "execution_count": 8,
   "metadata": {},
   "outputs": [],
   "source": []
  },
  {
   "cell_type": "code",
   "execution_count": null,
   "metadata": {},
   "outputs": [],
   "source": [
    "#Problem 111\n",
    "#Find all 4 digit primes:\n",
    "\n",
    "def prime_eratosthenes(m, n):\n",
    "    not_prime = []\n",
    "    prime = []\n",
    "    for i in range(2, n+1):\n",
    "        if i not in not_prime:\n",
    "            if i >= m:\n",
    "                prime.append(i)\n",
    "            for j in range(i*i, n+1, i):\n",
    "                not_prime.append(j)\n",
    "    return prime"
   ]
  },
  {
   "cell_type": "code",
   "execution_count": null,
   "metadata": {},
   "outputs": [],
   "source": [
    "prime_list = prime_eratosthenes(1000000000, 9999999999)\n",
    "str_prime_list = [[j for j in str(i)] for i in prime_list]\n"
   ]
  },
  {
   "cell_type": "code",
   "execution_count": null,
   "metadata": {},
   "outputs": [],
   "source": [
    "def repeating_digits_prime(character, number):\n",
    "    eligible_primes = []\n",
    "    count = 0\n",
    "    for k in str_prime_list:\n",
    "        if k.count(character) >= number:\n",
    "            count += 1\n",
    "            eligible_primes.append(int(''.join(k)))\n",
    "            #print(k)\n",
    "    return(eligible_primes)\n",
    "\n",
    "print(sum(repeating_digits_prime('1', 3)))  \n",
    "  "
   ]
  },
  {
   "cell_type": "code",
   "execution_count": null,
   "metadata": {},
   "outputs": [],
   "source": [
    "#Problem 112\n",
    "count = 1587000\n",
    "bouncy = []\n",
    "while len(bouncy)/len(all_list) != 0.01:\n",
    "    all_list = list(range(1,count))\n",
    "    bouncy = []\n",
    "    for num in all_list:\n",
    "        str_num_list = [i for i in str(num)]\n",
    "        str_num_increasing = sorted(str_num_list)\n",
    "        str_num_decreasing = sorted(str_num_list, reverse=True)\n",
    "        if str_num_list == str_num_increasing or str_num_list == str_num_decreasing:\n",
    "            bouncy.append(str_num_list)\n",
    "    print(len(bouncy)/len(all_list))\n",
    "    print(count)\n",
    "    count = count+1\n"
   ]
  },
  {
   "cell_type": "code",
   "execution_count": null,
   "metadata": {},
   "outputs": [],
   "source": []
  },
  {
   "cell_type": "code",
   "execution_count": null,
   "metadata": {},
   "outputs": [],
   "source": []
  }
 ],
 "metadata": {
  "kernelspec": {
   "display_name": "Python 3",
   "language": "python",
   "name": "python3"
  }
 },
 "nbformat": 4,
 "nbformat_minor": 2
}
